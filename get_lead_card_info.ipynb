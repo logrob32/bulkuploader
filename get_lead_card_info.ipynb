{
 "cells": [
  {
   "cell_type": "code",
   "execution_count": 18,
   "metadata": {},
   "outputs": [],
   "source": [
    "from facebook_business.adobjects.leadgenform import LeadgenForm\n",
    "from facebook_business.api import FacebookAdsApi\n",
    "import os\n",
    "from dotenv import load_dotenv\n",
    "import requests\n",
    "import json\n"
   ]
  },
  {
   "cell_type": "code",
   "execution_count": 2,
   "metadata": {},
   "outputs": [
    {
     "data": {
      "text/plain": [
       "True"
      ]
     },
     "execution_count": 2,
     "metadata": {},
     "output_type": "execute_result"
    }
   ],
   "source": [
    "load_dotenv()"
   ]
  },
  {
   "cell_type": "code",
   "execution_count": 3,
   "metadata": {},
   "outputs": [],
   "source": [
    "# Initialize the API\n",
    "FacebookAdsApi.init(access_token=os.getenv('FACEBOOK_ACCESS_TOKEN'),\n",
    "                    app_id=os.getenv('FACEBOOK_APP_ID'),\n",
    "                    app_secret=os.getenv('FACEBOOK_APP_SECRET'))\n",
    "\n",
    "# The ID of the existing lead form you want to copy\n",
    "existing_lead_form_id = '1778956992538844'"
   ]
  },
  {
   "cell_type": "code",
   "execution_count": 4,
   "metadata": {},
   "outputs": [],
   "source": [
    "def get_lead_form_data(lead_form_id):\n",
    "    FacebookAdsApi.init(access_token=os.getenv('FACEBOOK_ACCESS_TOKEN'),\n",
    "                        app_id=os.getenv('FACEBOOK_APP_ID'),\n",
    "                        app_secret=os.getenv('FACEBOOK_APP_SECRET'))\n",
    "    \n",
    "    lead_form = LeadgenForm(lead_form_id)\n",
    "    fields = [\n",
    "        'id',\n",
    "        'allow_organic_lead',\n",
    "        'block_display_for_non_targeted_viewer',\n",
    "        'context_card',\n",
    "        'created_time',\n",
    "        'expired_leads_count',\n",
    "        'follow_up_action_text',\n",
    "        'follow_up_action_url',\n",
    "        'is_optimized_for_quality',\n",
    "        'leads_count',\n",
    "        'legal_content',\n",
    "        'locale',\n",
    "        'name',\n",
    "        'organic_leads_count',\n",
    "        'page',\n",
    "        'page_id',\n",
    "        'privacy_policy_url',\n",
    "        'question_page_custom_headline',\n",
    "        'questions',\n",
    "        'status',\n",
    "        'thank_you_page',\n",
    "        'tracking_parameters',\n",
    "        # Add any additional fields you need\n",
    "    ]\n",
    "    \n",
    "    lead_form_data = lead_form.api_get(fields=fields)\n",
    "    \n",
    "    # Organizing the data into a dictionary\n",
    "    structured_data = {field: lead_form_data.get(field) for field in fields}\n",
    "    return structured_data"
   ]
  },
  {
   "cell_type": "code",
   "execution_count": 5,
   "metadata": {},
   "outputs": [],
   "source": [
    "lead_form_details = get_lead_form_data(existing_lead_form_id)"
   ]
  },
  {
   "cell_type": "code",
   "execution_count": 6,
   "metadata": {},
   "outputs": [
    {
     "name": "stdout",
     "output_type": "stream",
     "text": [
      "{'id': '1778956992538844', 'allow_organic_lead': True, 'block_display_for_non_targeted_viewer': False, 'context_card': <LeadGenContextCard> {\n",
      "    \"content\": [\n",
      "        \"Sign up today for your FREE workout and discover why everyone\\u2019s talking about \\ud83c\\udf4atheory!\\n\\n\\u2728 Utilize cutting-edge science to track your goals \\n\\u2728 Be a part of a supportive community cheers you on every step of the way\\n\\u2728 Achieve the real and lasting results you\\u2019ve always wanted\\n\\n*Terms and Conditions Apply\"\n",
      "    ],\n",
      "    \"cover_photo\": {\n",
      "        \"created_time\": \"2023-07-25T17:44:57+0000\",\n",
      "        \"id\": \"2018985685120994\"\n",
      "    },\n",
      "    \"id\": \"668773324702417\",\n",
      "    \"style\": \"PARAGRAPH_STYLE\",\n",
      "    \"title\": \"FREE! FREE! FREE! Try Orangetheory Now!\"\n",
      "}, 'created_time': '2023-07-25T17:45:17+0000', 'expired_leads_count': 0, 'follow_up_action_text': None, 'follow_up_action_url': 'https://www.orangetheory.com/en-us/locations/pennsylvania/coraopolis/630-chauvet-dr/', 'is_optimized_for_quality': False, 'leads_count': 0, 'legal_content': <LeadGenLegalContent> {\n",
      "    \"custom_disclaimer\": {\n",
      "        \"body\": {\n",
      "            \"text\": \"By submitting your information, you agree to the terms and conditions stated in our privacy policy.\"\n",
      "        },\n",
      "        \"checkboxes\": [\n",
      "            {\n",
      "                \"id\": \"1306593883549960\",\n",
      "                \"is_checked_by_default\": false,\n",
      "                \"is_required\": false,\n",
      "                \"key\": \"yes,_send_me_transaction_and_reminder_emails/texts.\",\n",
      "                \"text\": \"Yes, send me transaction and reminder emails/texts.\"\n",
      "            },\n",
      "            {\n",
      "                \"id\": \"252096110938568\",\n",
      "                \"is_checked_by_default\": false,\n",
      "                \"is_required\": false,\n",
      "                \"key\": \"yes,_send_me_marketing_emails/texts.__\",\n",
      "                \"text\": \"Yes, send me marketing emails/texts.\"\n",
      "            }\n",
      "        ],\n",
      "        \"title\": \"Terms and Conditions\"\n",
      "    },\n",
      "    \"id\": \"852114545776940\",\n",
      "    \"privacy_policy\": {\n",
      "        \"url\": \"https://www.orangetheory.com/en-us/privacy-policy/\"\n",
      "    }\n",
      "}, 'locale': 'en_US', 'name': 'Dynamic Q4 2023', 'organic_leads_count': 0, 'page': <Page> {\n",
      "    \"id\": \"441544299531815\",\n",
      "    \"name\": \"Orangetheory Fitness Robinson -North Fayette\"\n",
      "}, 'page_id': '441544299531815', 'privacy_policy_url': 'https://www.orangetheory.com/en-us/privacy-policy/', 'question_page_custom_headline': 'Start Seeing Orange with a FREE WORKOUT!', 'questions': [{'key': 'first_name', 'label': 'First name', 'type': 'FIRST_NAME', 'id': '2013529435658176'}, {'key': 'last_name', 'label': 'Last name', 'type': 'LAST_NAME', 'id': '223153360281720'}, {'key': 'phone_number', 'label': 'Phone number', 'type': 'PHONE', 'id': '971966894042431'}, {'key': 'email', 'label': 'Email', 'type': 'EMAIL', 'id': '298942766014658'}], 'status': 'ACTIVE', 'thank_you_page': <LeadGenThankYouPage> {\n",
      "    \"body\": \"We will be in touch shortly! \\n\\nIn the meantime, visit our website to learn more about Orangetheory Fitness.\",\n",
      "    \"button_text\": \"View website\",\n",
      "    \"button_type\": \"VIEW_WEBSITE\",\n",
      "    \"enable_messenger\": false,\n",
      "    \"id\": \"795504552065804\",\n",
      "    \"title\": \"Thanks for your interest in Orangetheory Fitness.\",\n",
      "    \"website_url\": \"https://www.orangetheory.com/en-us/locations/pennsylvania/coraopolis/630-chauvet-dr/\"\n",
      "}, 'tracking_parameters': None}\n"
     ]
    }
   ],
   "source": [
    "print(lead_form_details)"
   ]
  },
  {
   "cell_type": "code",
   "execution_count": 37,
   "metadata": {},
   "outputs": [
    {
     "data": {
      "text/plain": [
       "<Page> {\n",
       "    \"id\": \"441544299531815\",\n",
       "    \"name\": \"Orangetheory Fitness Robinson -North Fayette\"\n",
       "}"
      ]
     },
     "execution_count": 37,
     "metadata": {},
     "output_type": "execute_result"
    }
   ],
   "source": [
    "# Assume lead_form_details is already populated with the details of the existing form\n",
    "new_lead_form_data = lead_form_details.copy()\n",
    "\n",
    "# Update the page_id for the new page\n",
    "new_lead_form_data['page_id'] = '877867295627373'\n",
    "\n",
    "# New URL to be used\n",
    "new_url = \"https://www.orangetheory.com/en-us/locations/massachusetts/dedham/610-providence-highway/\"\n",
    "\n",
    "# Update the URLs in the new lead form data\n",
    "new_lead_form_data['follow_up_action_url'] = new_url\n",
    "new_lead_form_data['privacy_policy_url'] = new_url\n",
    "\n",
    "\n",
    "# Remove fields that should not be included in the creation request\n",
    "new_lead_form_data.pop('id', None)  # Remove the old ID\n",
    "new_lead_form_data.pop('created_time', None)  # Remove the created time\n",
    "new_lead_form_data.pop('expired_leads_count', None)  # Remove counts\n",
    "new_lead_form_data.pop('leads_count', None)\n",
    "new_lead_form_data.pop('organic_leads_count', None)\n",
    "new_lead_form_data.pop('page', None)  # Remove old page reference\n",
    "\n",
    "# Any other fields that are not relevant to creation can also be removed\n"
   ]
  },
  {
   "cell_type": "code",
   "execution_count": 38,
   "metadata": {},
   "outputs": [],
   "source": [
    "# Define standard question types\n",
    "standard_question_types = ['FIRST_NAME', 'LAST_NAME', 'EMAIL', 'PHONE', 'CITY', 'STATE', 'COUNTRY', 'STREET_ADDRESS', 'POST_CODE', 'DOB', 'GENDER', 'MARITAL_STATUS', 'JOB_TITLE', 'WORK_PHONE_NUMBER', 'COMPANY_NAME', 'MILITARY_STATUS', 'RELATIONSHIP_STATUS', 'WORK_EMAIL']\n",
    "\n",
    "# Iterate over the questions and remove the label for standard types\n",
    "for question in new_lead_form_data['questions']:\n",
    "    question.pop('id', None)  # Remove 'id' key if it exists\n",
    "    if question['type'] in standard_question_types and 'label' in question:\n",
    "        question.pop('label')\n",
    "\n",
    "# Convert the modified questions list to a JSON string\n",
    "questions_json_string = json.dumps(new_lead_form_data['questions'])\n",
    "\n",
    "# Update the questions in your new_lead_form_data dictionary\n",
    "new_lead_form_data['questions'] = questions_json_string"
   ]
  },
  {
   "cell_type": "code",
   "execution_count": 39,
   "metadata": {},
   "outputs": [
    {
     "name": "stdout",
     "output_type": "stream",
     "text": [
      "{'allow_organic_lead': True, 'block_display_for_non_targeted_viewer': False, 'context_card': <LeadGenContextCard> {\n",
      "    \"content\": [\n",
      "        \"Sign up today for your FREE workout and discover why everyone\\u2019s talking about \\ud83c\\udf4atheory!\\n\\n\\u2728 Utilize cutting-edge science to track your goals \\n\\u2728 Be a part of a supportive community cheers you on every step of the way\\n\\u2728 Achieve the real and lasting results you\\u2019ve always wanted\\n\\n*Terms and Conditions Apply\"\n",
      "    ],\n",
      "    \"cover_photo\": {\n",
      "        \"created_time\": \"2023-07-25T17:44:57+0000\",\n",
      "        \"id\": \"2018985685120994\"\n",
      "    },\n",
      "    \"id\": \"668773324702417\",\n",
      "    \"style\": \"PARAGRAPH_STYLE\",\n",
      "    \"title\": \"FREE! FREE! FREE! Try Orangetheory Now!\"\n",
      "}, 'follow_up_action_text': None, 'follow_up_action_url': 'https://www.orangetheory.com/en-us/locations/massachusetts/dedham/610-providence-highway/', 'is_optimized_for_quality': False, 'legal_content': <LeadGenLegalContent> {\n",
      "    \"custom_disclaimer\": {\n",
      "        \"body\": {\n",
      "            \"text\": \"By submitting your information, you agree to the terms and conditions stated in our privacy policy.\"\n",
      "        },\n",
      "        \"checkboxes\": [\n",
      "            {\n",
      "                \"id\": \"1306593883549960\",\n",
      "                \"is_checked_by_default\": false,\n",
      "                \"is_required\": false,\n",
      "                \"key\": \"yes,_send_me_transaction_and_reminder_emails/texts.\",\n",
      "                \"text\": \"Yes, send me transaction and reminder emails/texts.\"\n",
      "            },\n",
      "            {\n",
      "                \"id\": \"252096110938568\",\n",
      "                \"is_checked_by_default\": false,\n",
      "                \"is_required\": false,\n",
      "                \"key\": \"yes,_send_me_marketing_emails/texts.__\",\n",
      "                \"text\": \"Yes, send me marketing emails/texts.\"\n",
      "            }\n",
      "        ],\n",
      "        \"title\": \"Terms and Conditions\"\n",
      "    },\n",
      "    \"id\": \"852114545776940\",\n",
      "    \"privacy_policy\": {\n",
      "        \"url\": \"https://www.orangetheory.com/en-us/privacy-policy/\"\n",
      "    }\n",
      "}, 'locale': 'en_US', 'name': 'Dynamic Q4 2023', 'page_id': '877867295627373', 'privacy_policy_url': 'https://www.orangetheory.com/en-us/locations/massachusetts/dedham/610-providence-highway/', 'question_page_custom_headline': 'Start Seeing Orange with a FREE WORKOUT!', 'questions': '[{\"key\": \"first_name\", \"type\": \"FIRST_NAME\"}, {\"key\": \"last_name\", \"type\": \"LAST_NAME\"}, {\"key\": \"phone_number\", \"type\": \"PHONE\"}, {\"key\": \"email\", \"type\": \"EMAIL\"}]', 'status': 'ACTIVE', 'thank_you_page': <LeadGenThankYouPage> {\n",
      "    \"body\": \"We will be in touch shortly! \\n\\nIn the meantime, visit our website to learn more about Orangetheory Fitness.\",\n",
      "    \"button_text\": \"View website\",\n",
      "    \"button_type\": \"VIEW_WEBSITE\",\n",
      "    \"enable_messenger\": false,\n",
      "    \"id\": \"795504552065804\",\n",
      "    \"title\": \"Thanks for your interest in Orangetheory Fitness.\",\n",
      "    \"website_url\": \"https://www.orangetheory.com/en-us/locations/pennsylvania/coraopolis/630-chauvet-dr/\"\n",
      "}, 'tracking_parameters': None}\n"
     ]
    }
   ],
   "source": [
    "print(new_lead_form_data)"
   ]
  },
  {
   "cell_type": "code",
   "execution_count": 40,
   "metadata": {},
   "outputs": [
    {
     "name": "stdout",
     "output_type": "stream",
     "text": [
      "Failed to create new lead form.\n",
      "{\"error\":{\"message\":\"Invalid parameter\",\"type\":\"OAuthException\",\"code\":100,\"error_subcode\":1892075,\"is_transient\":false,\"error_user_title\":\"Legal content missing\",\"error_user_msg\":\"Either legal_content_id or privacy_policy is required to be specified to create a LeadGen form\",\"fbtrace_id\":\"AwZPfh6-eO3gOPTLgiGtH5w\"}}\n"
     ]
    }
   ],
   "source": [
    "# Ensure that the environment variable for the access token is set\n",
    "access_token = os.getenv('FACEBOOK_ACCESS_TOKEN')\n",
    "if access_token is None:\n",
    "    print(\"Access token not found. Please set your environment variable for the access token.\")\n",
    "else:\n",
    "    headers = {\n",
    "        'Authorization': f'Bearer {access_token}'\n",
    "    }\n",
    "\n",
    "    # Facebook API endpoint to create a new lead form\n",
    "    api_endpoint = f'https://graph.facebook.com/v18.0/{new_lead_form_data[\"page_id\"]}/leadgen_forms'\n",
    "\n",
    "    # API call to create the new lead form\n",
    "    response = requests.post(api_endpoint, data=new_lead_form_data, headers=headers)\n",
    "\n",
    "    # Check response\n",
    "    if response.status_code == 200:\n",
    "        print(\"New lead form created successfully.\")\n",
    "    else:\n",
    "        print(\"Failed to create new lead form.\")\n",
    "        print(response.text)\n"
   ]
  },
  {
   "cell_type": "code",
   "execution_count": null,
   "metadata": {},
   "outputs": [],
   "source": []
  }
 ],
 "metadata": {
  "kernelspec": {
   "display_name": "venv",
   "language": "python",
   "name": "python3"
  },
  "language_info": {
   "codemirror_mode": {
    "name": "ipython",
    "version": 3
   },
   "file_extension": ".py",
   "mimetype": "text/x-python",
   "name": "python",
   "nbconvert_exporter": "python",
   "pygments_lexer": "ipython3",
   "version": "3.8.2"
  }
 },
 "nbformat": 4,
 "nbformat_minor": 2
}

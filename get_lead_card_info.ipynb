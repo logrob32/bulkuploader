{
 "cells": [
  {
   "cell_type": "code",
   "execution_count": 1,
   "metadata": {},
   "outputs": [
    {
     "name": "stderr",
     "output_type": "stream",
     "text": [
      "/Users/lroberts/bulkuploader/venv/lib/python3.8/site-packages/urllib3/__init__.py:34: NotOpenSSLWarning: urllib3 v2 only supports OpenSSL 1.1.1+, currently the 'ssl' module is compiled with 'LibreSSL 2.8.3'. See: https://github.com/urllib3/urllib3/issues/3020\n",
      "  warnings.warn(\n"
     ]
    }
   ],
   "source": [
    "from facebook_business.adobjects.leadgenform import LeadgenForm\n",
    "from facebook_business.api import FacebookAdsApi\n",
    "import os\n",
    "from dotenv import load_dotenv\n",
    "import requests\n",
    "import json"
   ]
  },
  {
   "cell_type": "code",
   "execution_count": 2,
   "metadata": {},
   "outputs": [
    {
     "data": {
      "text/plain": [
       "True"
      ]
     },
     "execution_count": 2,
     "metadata": {},
     "output_type": "execute_result"
    }
   ],
   "source": [
    "load_dotenv()"
   ]
  },
  {
   "cell_type": "code",
   "execution_count": 3,
   "metadata": {},
   "outputs": [],
   "source": [
    "# Initialize the API\n",
    "FacebookAdsApi.init(access_token=os.getenv('FACEBOOK_ACCESS_TOKEN'),\n",
    "                    app_id=os.getenv('FACEBOOK_APP_ID'),\n",
    "                    app_secret=os.getenv('FACEBOOK_APP_SECRET'))\n",
    "\n",
    "# The ID of the existing lead form you want to copy\n",
    "existing_lead_form_id = '1778956992538844'"
   ]
  },
  {
   "cell_type": "code",
   "execution_count": 6,
   "metadata": {},
   "outputs": [],
   "source": [
    "def get_lead_form_data(lead_form_id):\n",
    "    FacebookAdsApi.init(access_token=os.getenv('FACEBOOK_ACCESS_TOKEN'),\n",
    "                        app_id=os.getenv('FACEBOOK_APP_ID'),\n",
    "                        app_secret=os.getenv('FACEBOOK_APP_SECRET'))\n",
    "    \n",
    "    lead_form = LeadgenForm(lead_form_id)\n",
    "    fields = [\n",
    "        'context_card',\n",
    "        'follow_up_action_url',\n",
    "        'is_optimized_for_quality',\n",
    "        'legal_content',\n",
    "        'name',\n",
    "        'page_id',\n",
    "        'privacy_policy_url',\n",
    "        'question_page_custom_headline',\n",
    "        'questions',\n",
    "        'thank_you_page'\n",
    "    ]\n",
    "    \n",
    "    lead_form_data = lead_form.api_get(fields=fields)\n",
    "\n",
    "    # Function to handle the export of data\n",
    "    def export_or_use_directly(item):\n",
    "        return item.export_all_data() if hasattr(item, 'export_all_data') else item\n",
    "\n",
    "    # Organizing the data into a dictionary\n",
    "    structured_data = {\n",
    "        'name': lead_form_data.get('name'),\n",
    "        'follow_up_action_url': lead_form_data.get('follow_up_action_url'),\n",
    "        'is_optimized_for_quality': lead_form_data.get('is_optimized_for_quality'),\n",
    "        'legal_content': export_or_use_directly(lead_form_data.get('legal_content')),\n",
    "        'page_id': lead_form_data.get('page_id'),\n",
    "        'privacy_policy_url': lead_form_data.get('privacy_policy_url'),\n",
    "        'question_page_custom_headline': lead_form_data.get('question_page_custom_headline'),\n",
    "        'questions': [export_or_use_directly(q) for q in lead_form_data.get('questions', [])],\n",
    "        'context_card': export_or_use_directly(lead_form_data.get('context_card')),\n",
    "        'thank_you_page': export_or_use_directly(lead_form_data.get('thank_you_page'))\n",
    "    }\n",
    "\n",
    "    return structured_data\n"
   ]
  },
  {
   "cell_type": "code",
   "execution_count": 10,
   "metadata": {},
   "outputs": [],
   "source": [
    "structured_data = get_lead_form_data(existing_lead_form_id)"
   ]
  },
  {
   "cell_type": "code",
   "execution_count": 11,
   "metadata": {},
   "outputs": [
    {
     "name": "stdout",
     "output_type": "stream",
     "text": [
      "{'name': 'Dynamic Q4 2023', 'follow_up_action_url': 'https://www.orangetheory.com/en-us/locations/pennsylvania/coraopolis/630-chauvet-dr/', 'is_optimized_for_quality': False, 'legal_content': {'id': '852114545776940', 'privacy_policy': {'url': 'https://www.orangetheory.com/en-us/privacy-policy/'}, 'custom_disclaimer': {'title': 'Terms and Conditions', 'body': {'text': 'By submitting your information, you agree to the terms and conditions stated in our privacy policy.'}, 'checkboxes': [{'id': '1306593883549960', 'is_required': False, 'is_checked_by_default': False, 'text': 'Yes, send me transaction and reminder emails/texts.', 'key': 'yes,_send_me_transaction_and_reminder_emails/texts.'}, {'id': '252096110938568', 'is_required': False, 'is_checked_by_default': False, 'text': 'Yes, send me marketing emails/texts.', 'key': 'yes,_send_me_marketing_emails/texts.__'}]}}, 'page_id': '441544299531815', 'privacy_policy_url': 'https://www.orangetheory.com/en-us/privacy-policy/', 'question_page_custom_headline': 'Start Seeing Orange with a FREE WORKOUT!', 'questions': [{'key': 'first_name', 'label': 'First name', 'type': 'FIRST_NAME', 'id': '2013529435658176'}, {'key': 'last_name', 'label': 'Last name', 'type': 'LAST_NAME', 'id': '223153360281720'}, {'key': 'phone_number', 'label': 'Phone number', 'type': 'PHONE', 'id': '971966894042431'}, {'key': 'email', 'label': 'Email', 'type': 'EMAIL', 'id': '298942766014658'}], 'context_card': {'id': '668773324702417', 'title': 'FREE! FREE! FREE! Try Orangetheory Now!', 'content': ['Sign up today for your FREE workout and discover why everyone’s talking about 🍊theory!\\n\\n✨ Utilize cutting-edge science to track your goals \\n✨ Be a part of a supportive community cheers you on every step of the way\\n✨ Achieve the real and lasting results you’ve always wanted\\n\\n*Terms and Conditions Apply'], 'style': 'PARAGRAPH_STYLE', 'cover_photo': {'id': '2018985685120994', 'created_time': '2023-07-25T17:44:57+0000'}}, 'thank_you_page': {'id': '795504552065804', 'title': 'Thanks for your interest in Orangetheory Fitness.', 'body': 'We will be in touch shortly! \\n\\nIn the meantime, visit our website to learn more about Orangetheory Fitness.', 'button_text': 'View website', 'enable_messenger': False, 'button_type': 'VIEW_WEBSITE', 'website_url': 'https://www.orangetheory.com/en-us/locations/pennsylvania/coraopolis/630-chauvet-dr/'}}\n"
     ]
    }
   ],
   "source": [
    "print(structured_data)"
   ]
  },
  {
   "cell_type": "code",
   "execution_count": 13,
   "metadata": {},
   "outputs": [
    {
     "name": "stdout",
     "output_type": "stream",
     "text": [
      "Failed to create new lead form.\n",
      "{\"error\":{\"message\":\"(#100) Invalid keys \\\"id, cover_photo\\\" were found in param \\\"context_card\\\".\",\"type\":\"OAuthException\",\"code\":100,\"fbtrace_id\":\"AguleDC9tvjxie2SuSDcQtr\"}}\n"
     ]
    }
   ],
   "source": [
    "# Assuming structured_data is the data fetched from the original lead form\n",
    "new_page_id = \"877867295627373\"  # Replace with the ID of the new page\n",
    "new_follow_up_action_url = \"https://www.orangetheory.com/en-us/locations/massachusetts/dedham/610-providence-highway\"  # Replace with the new URL\n",
    "\n",
    "# Update the page_id and URLs\n",
    "structured_data['page_id'] = new_page_id\n",
    "structured_data['follow_up_action_url'] = new_follow_up_action_url\n",
    "\n",
    "# Remove 'id' key from each question\n",
    "for question in structured_data.get('questions', []):\n",
    "    if 'id' in question:\n",
    "        question.pop('id')\n",
    "\n",
    "# Serialize the data\n",
    "json_data = json.dumps(structured_data)\n",
    "\n",
    "# Setup API endpoint and headers\n",
    "page_id = structured_data['page_id']  # Ensure this is the new page ID\n",
    "api_endpoint = f'https://graph.facebook.com/v18.0/{page_id}/leadgen_forms'\n",
    "headers = {\n",
    "    'Authorization': f'Bearer {os.getenv(\"FACEBOOK_ACCESS_TOKEN\")}',\n",
    "    'Content-Type': 'application/json'\n",
    "}\n",
    "\n",
    "# Make the API call\n",
    "response = requests.post(api_endpoint, data=json_data, headers=headers)\n",
    "\n",
    "# Handle the response\n",
    "if response.status_code == 200:\n",
    "    print(\"New lead form created successfully.\")\n",
    "    print(response.json())  # This should contain details of the new lead form\n",
    "else:\n",
    "    print(\"Failed to create new lead form.\")\n",
    "    print(response.text)  # This should contain error information"
   ]
  },
  {
   "cell_type": "code",
   "execution_count": null,
   "metadata": {},
   "outputs": [],
   "source": []
  }
 ],
 "metadata": {
  "kernelspec": {
   "display_name": "venv",
   "language": "python",
   "name": "python3"
  },
  "language_info": {
   "codemirror_mode": {
    "name": "ipython",
    "version": 3
   },
   "file_extension": ".py",
   "mimetype": "text/x-python",
   "name": "python",
   "nbconvert_exporter": "python",
   "pygments_lexer": "ipython3",
   "version": "3.8.2"
  }
 },
 "nbformat": 4,
 "nbformat_minor": 2
}

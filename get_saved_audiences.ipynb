{
 "cells": [
  {
   "cell_type": "code",
   "execution_count": 1,
   "metadata": {},
   "outputs": [
    {
     "name": "stderr",
     "output_type": "stream",
     "text": [
      "/Users/lroberts/bulkuploader/venv/lib/python3.8/site-packages/urllib3/__init__.py:34: NotOpenSSLWarning: urllib3 v2 only supports OpenSSL 1.1.1+, currently the 'ssl' module is compiled with 'LibreSSL 2.8.3'. See: https://github.com/urllib3/urllib3/issues/3020\n",
      "  warnings.warn(\n"
     ]
    }
   ],
   "source": [
    "from facebook_business.api import FacebookAdsApi\n",
    "from facebook_business.adobjects.adaccount import AdAccount\n",
    "import os\n",
    "from datetime import datetime\n",
    "from dotenv import load_dotenv"
   ]
  },
  {
   "cell_type": "code",
   "execution_count": 2,
   "metadata": {},
   "outputs": [
    {
     "data": {
      "text/plain": [
       "True"
      ]
     },
     "execution_count": 2,
     "metadata": {},
     "output_type": "execute_result"
    }
   ],
   "source": [
    "load_dotenv()  # This loads the variables from .env"
   ]
  },
  {
   "cell_type": "code",
   "execution_count": 10,
   "metadata": {},
   "outputs": [],
   "source": [
    "def get_audiences(ad_account_id):\n",
    "    FacebookAdsApi.init(access_token=os.getenv('FACEBOOK_ACCESS_TOKEN'),\n",
    "                        app_id=os.getenv('FACEBOOK_APP_ID'),\n",
    "                        app_secret=os.getenv('FACEBOOK_APP_SECRET'))\n",
    "\n",
    "    ad_account = AdAccount(ad_account_id)\n",
    "\n",
    "    try:\n",
    "        saved_audiences = ad_account.get_saved_audiences(fields=[\n",
    "            'id',\n",
    "            'name',\n",
    "            'time_updated',\n",
    "            # Add other fields as needed\n",
    "        ])\n",
    "        # Convert Cursor to list of dictionaries\n",
    "        audience_list = [audience.export_all_data() for audience in saved_audiences]\n",
    "        return audience_list\n",
    "    except Exception as e:\n",
    "        print(f'An error occurred: {e}')\n"
   ]
  },
  {
   "cell_type": "code",
   "execution_count": 11,
   "metadata": {},
   "outputs": [
    {
     "name": "stdout",
     "output_type": "stream",
     "text": [
      "{'id': '23843860520770626', 'name': 'Broad', 'time_updated': '2022-04-15T16:54:31+0000'}\n",
      "{'id': '23843863636030626', 'name': 'W/E/P/E', 'time_updated': '2022-04-15T16:52:51+0000'}\n",
      "{'id': '23843866198050626', 'name': 'F/C', 'time_updated': '2022-04-15T16:53:38+0000'}\n",
      "{'id': '23843866199350626', 'name': 'AI - Members', 'time_updated': '2021-03-22T16:41:27+0000'}\n",
      "{'id': '23846903082240626', 'name': 'F/C (age cap)', 'time_updated': '2022-04-15T16:55:01+0000'}\n",
      "{'id': '23846903083510626', 'name': 'Broad (age cap)', 'time_updated': '2022-04-15T16:55:51+0000'}\n",
      "{'id': '23849433938990626', 'name': \"Target (Test Feb '22)\", 'time_updated': '2022-02-10T18:47:27+0000'}\n",
      "{'id': '23849433941100626', 'name': \"AI - CR (Test Feb '22)\", 'time_updated': '2022-04-15T16:52:12+0000'}\n",
      "{'id': '23849433942630626', 'name': \"F/C (Test Feb '22)\", 'time_updated': '2022-04-15T16:47:45+0000'}\n",
      "{'id': '23849433943550626', 'name': \"Broad (Test Feb '22)\", 'time_updated': '2022-04-15T16:44:47+0000'}\n",
      "{'id': '23849856555040626', 'name': 'Reach', 'time_updated': '2022-04-06T19:40:07+0000'}\n",
      "{'id': '23850410713540626', 'name': 'W/E/P/E + AI', 'time_updated': '2022-06-10T17:45:47+0000'}\n",
      "{'id': '23850410714970626', 'name': 'Broad 18+', 'time_updated': '2022-06-10T17:46:13+0000'}\n",
      "{'id': '23850882499860626', 'name': 'Reach v2', 'time_updated': '2022-08-11T20:52:52+0000'}\n",
      "{'id': '23850918289060626', 'name': 'W/E/P/E + AI v2', 'time_updated': '2022-08-16T21:59:48+0000'}\n",
      "{'id': '23850918290830626', 'name': 'Broad 18+ v2', 'time_updated': '2022-08-16T22:00:29+0000'}\n",
      "{'id': '23851891868640626', 'name': 'Reach v3', 'time_updated': '2022-11-10T14:17:47+0000'}\n",
      "{'id': '23851961172890626', 'name': 'W/E/P/E + AI v3', 'time_updated': '2022-11-15T20:53:48+0000'}\n",
      "{'id': '23851961174370626', 'name': 'Broad 18+ v3', 'time_updated': '2022-11-15T20:54:18+0000'}\n"
     ]
    }
   ],
   "source": [
    "# Replace 'act_453485805236160' with your actual ad account ID\n",
    "audiences = get_audiences('act_453485805236160')\n",
    "for audience in audiences:\n",
    "    print(audience)"
   ]
  },
  {
   "cell_type": "code",
   "execution_count": 17,
   "metadata": {},
   "outputs": [],
   "source": [
    "def find_most_recent_audience(audiences, keywords):\n",
    "\n",
    "    # Filter audiences based on keywords\n",
    "    filtered_audiences = [aud for aud in audiences if any(keyword.lower() in aud.get('name', '').lower() for keyword in keywords)]\n",
    "\n",
    "    if not filtered_audiences:\n",
    "        return None, f\"No audience found containing the keywords '{keywords}'.\"\n",
    "\n",
    "    # Find the most recent audience\n",
    "    most_recent_audience = max(filtered_audiences, key=lambda aud: datetime.strptime(aud.get('time_updated', '1900-01-01T00:00:00+0000'), '%Y-%m-%dT%H:%M:%S%z'))\n",
    "\n",
    "    return most_recent_audience, None\n"
   ]
  },
  {
   "cell_type": "code",
   "execution_count": 18,
   "metadata": {},
   "outputs": [],
   "source": [
    "# Simplified keyword lists\n",
    "broad_keywords = ['broad']\n",
    "wep_keywords = ['w/e/p/e', 'wep']\n",
    "reach_keywords = ['reach', 'target area']\n",
    "\n",
    "broad_audience, broad_error = find_most_recent_audience(audiences, broad_keywords)\n",
    "wep_audience, wep_error = find_most_recent_audience(audiences, wep_keywords)\n",
    "reach_audience, reach_error = find_most_recent_audience(audiences, reach_keywords)"
   ]
  },
  {
   "cell_type": "code",
   "execution_count": 19,
   "metadata": {},
   "outputs": [
    {
     "name": "stdout",
     "output_type": "stream",
     "text": [
      "Most recent 'Broad' audience: ID - 23851961174370626, Name - Broad 18+ v3\n",
      "Most recent 'W/E/P/E' audience: ID - 23851961172890626, Name - W/E/P/E + AI v3\n",
      "Most recent 'Reach or Target Area' audience: ID - 23851891868640626, Name - Reach v3\n"
     ]
    }
   ],
   "source": [
    "for aud, error, category in zip([broad_audience, wep_audience, reach_audience], [broad_error, wep_error, reach_error], ['Broad', 'W/E/P/E', 'Reach or Target Area']):\n",
    "    if error:\n",
    "        print(error)\n",
    "    else:\n",
    "        print(f\"Most recent '{category}' audience: ID - {aud['id']}, Name - {aud['name']}\")\n"
   ]
  },
  {
   "cell_type": "code",
   "execution_count": null,
   "metadata": {},
   "outputs": [],
   "source": []
  }
 ],
 "metadata": {
  "kernelspec": {
   "display_name": "venv",
   "language": "python",
   "name": "python3"
  },
  "language_info": {
   "codemirror_mode": {
    "name": "ipython",
    "version": 3
   },
   "file_extension": ".py",
   "mimetype": "text/x-python",
   "name": "python",
   "nbconvert_exporter": "python",
   "pygments_lexer": "ipython3",
   "version": "3.8.2"
  }
 },
 "nbformat": 4,
 "nbformat_minor": 2
}
